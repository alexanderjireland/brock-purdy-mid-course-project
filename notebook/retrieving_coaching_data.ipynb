{
 "cells": [
  {
   "cell_type": "code",
   "execution_count": 1,
   "metadata": {},
   "outputs": [],
   "source": [
    "import pandas as pd\n",
    "import requests\n",
    "from bs4 import BeautifulSoup\n",
    "from io import StringIO\n",
    "import time"
   ]
  },
  {
   "cell_type": "code",
   "execution_count": 2,
   "metadata": {},
   "outputs": [
    {
     "name": "stderr",
     "output_type": "stream",
     "text": [
      "C:\\Users\\irela\\AppData\\Local\\Temp\\ipykernel_26592\\3558236294.py:11: FutureWarning: Passing literal html to 'read_html' is deprecated and will be removed in a future version. To read from a literal string, wrap it in a 'StringIO' object.\n",
      "  pd.read_html(str(table))[0]\n"
     ]
    }
   ],
   "source": [
    "year = 2022\n",
    "url = f\"https://www.pro-football-reference.com/years/{year}/coaches.htm\" #can expand to other years later\n",
    "response = requests.get(url)\n",
    "if response.status_code == requests.codes.ok:\n",
    "    soup = BeautifulSoup(response.text, features=\"html.parser\")\n",
    "else:\n",
    "    response.raise_for_status()\n",
    "\n",
    "table = soup.find('table', {'id':'coaches'})\n",
    "coach_data = (\n",
    "    pd.read_html(str(table))[0]\n",
    "    .iloc[1:]\n",
    ")\n",
    "coach_data['year'] = year"
   ]
  },
  {
   "cell_type": "code",
   "execution_count": 3,
   "metadata": {},
   "outputs": [],
   "source": [
    "def retrieve_year_coach_data(year):\n",
    "    url = f\"https://www.pro-football-reference.com/years/{year}/coaches.htm\"\n",
    "    response = requests.get(url)\n",
    "    if response.status_code == requests.codes.ok:\n",
    "        soup = BeautifulSoup(response.text, features=\"html.parser\")\n",
    "    else:\n",
    "        response.raise_for_status()\n",
    "\n",
    "    table = soup.find('table', {'id':'coaches'})\n",
    "    coach_data = (\n",
    "        pd.read_html(StringIO(str(table)))[0]\n",
    "        .iloc[1:]\n",
    "    )\n",
    "    coach_data['year'] = year\n",
    "    return coach_data"
   ]
  },
  {
   "cell_type": "code",
   "execution_count": 4,
   "metadata": {},
   "outputs": [],
   "source": [
    "def clean_coach_data_year(year):\n",
    "    df = retrieve_year_coach_data(year)\n",
    "    df.columns = df.columns.droplevel(0)\n",
    "    df = (\n",
    "        df[['Coach', 'Tm', '', 'G']]\n",
    "        .rename(columns={'':'year'})\n",
    "        .iloc[:, 0:4]\n",
    "        .rename(columns={'Coach':'coach','Tm':'team', 'G':'num_games_coached'})\n",
    "    )\n",
    "    df = df.loc[df.groupby('team')['num_games_coached'].idxmax(), ['team', 'coach', 'year', 'num_games_coached']].reset_index(drop=True)\n",
    "    return df"
   ]
  },
  {
   "cell_type": "code",
   "execution_count": 5,
   "metadata": {},
   "outputs": [],
   "source": [
    "def get_all_coach_data(begin_range = 1999, end_range=2025):\n",
    "    data_list = []\n",
    "    years = range(begin_range, end_range)\n",
    "    for year in years:\n",
    "        data_list.append(clean_coach_data_year(year))\n",
    "    return pd.concat(data_list)"
   ]
  },
  {
   "cell_type": "code",
   "execution_count": 6,
   "metadata": {},
   "outputs": [],
   "source": [
    "all_coach_data = get_all_coach_data()"
   ]
  },
  {
   "cell_type": "code",
   "execution_count": 8,
   "metadata": {},
   "outputs": [],
   "source": [
    "#coach_2025 = get_all_coach_data(begin_range=2024, end_range=2025)"
   ]
  },
  {
   "cell_type": "code",
   "execution_count": 10,
   "metadata": {},
   "outputs": [
    {
     "data": {
      "text/html": [
       "<div>\n",
       "<style scoped>\n",
       "    .dataframe tbody tr th:only-of-type {\n",
       "        vertical-align: middle;\n",
       "    }\n",
       "\n",
       "    .dataframe tbody tr th {\n",
       "        vertical-align: top;\n",
       "    }\n",
       "\n",
       "    .dataframe thead th {\n",
       "        text-align: right;\n",
       "    }\n",
       "</style>\n",
       "<table border=\"1\" class=\"dataframe\">\n",
       "  <thead>\n",
       "    <tr style=\"text-align: right;\">\n",
       "      <th></th>\n",
       "      <th>team</th>\n",
       "      <th>coach</th>\n",
       "      <th>year</th>\n",
       "      <th>num_games_coached</th>\n",
       "    </tr>\n",
       "  </thead>\n",
       "  <tbody>\n",
       "    <tr>\n",
       "      <th>26</th>\n",
       "      <td>SEA</td>\n",
       "      <td>Mike Macdonald</td>\n",
       "      <td>2024</td>\n",
       "      <td>17</td>\n",
       "    </tr>\n",
       "    <tr>\n",
       "      <th>27</th>\n",
       "      <td>SFO</td>\n",
       "      <td>Kyle Shanahan</td>\n",
       "      <td>2024</td>\n",
       "      <td>17</td>\n",
       "    </tr>\n",
       "    <tr>\n",
       "      <th>28</th>\n",
       "      <td>TAM</td>\n",
       "      <td>Todd Bowles</td>\n",
       "      <td>2024</td>\n",
       "      <td>17</td>\n",
       "    </tr>\n",
       "    <tr>\n",
       "      <th>29</th>\n",
       "      <td>TEN</td>\n",
       "      <td>Brian Callahan</td>\n",
       "      <td>2024</td>\n",
       "      <td>17</td>\n",
       "    </tr>\n",
       "    <tr>\n",
       "      <th>30</th>\n",
       "      <td>WAS</td>\n",
       "      <td>Dan Quinn</td>\n",
       "      <td>2024</td>\n",
       "      <td>17</td>\n",
       "    </tr>\n",
       "  </tbody>\n",
       "</table>\n",
       "</div>"
      ],
      "text/plain": [
       "   team           coach  year  num_games_coached\n",
       "26  SEA  Mike Macdonald  2024                 17\n",
       "27  SFO   Kyle Shanahan  2024                 17\n",
       "28  TAM     Todd Bowles  2024                 17\n",
       "29  TEN  Brian Callahan  2024                 17\n",
       "30  WAS       Dan Quinn  2024                 17"
      ]
     },
     "execution_count": 10,
     "metadata": {},
     "output_type": "execute_result"
    }
   ],
   "source": [
    "all_coach_data = pd.concat([all_coach_data, coach_2025])\n",
    "all_coach_data.tail()"
   ]
  },
  {
   "cell_type": "code",
   "execution_count": 12,
   "metadata": {},
   "outputs": [],
   "source": [
    "all_coach_data.to_csv('../data/all_coach_data.csv')"
   ]
  }
 ],
 "metadata": {
  "kernelspec": {
   "display_name": "base",
   "language": "python",
   "name": "python3"
  },
  "language_info": {
   "codemirror_mode": {
    "name": "ipython",
    "version": 3
   },
   "file_extension": ".py",
   "mimetype": "text/x-python",
   "name": "python",
   "nbconvert_exporter": "python",
   "pygments_lexer": "ipython3",
   "version": "3.12.4"
  }
 },
 "nbformat": 4,
 "nbformat_minor": 2
}
